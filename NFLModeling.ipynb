{
 "cells": [
  {
   "cell_type": "markdown",
   "metadata": {},
   "source": [
    "Upgrade pip installer to match python version"
   ]
  },
  {
   "cell_type": "code",
   "execution_count": 1,
   "metadata": {},
   "outputs": [
    {
     "name": "stdout",
     "output_type": "stream",
     "text": [
      "Defaulting to user installation because normal site-packages is not writeable\n",
      "Requirement already satisfied: pip in /Users/rakeshgautam/Library/Python/3.9/lib/python/site-packages (23.3.2)\n",
      "Note: you may need to restart the kernel to use updated packages.\n"
     ]
    }
   ],
   "source": [
    "%pip install --upgrade pip"
   ]
  },
  {
   "cell_type": "markdown",
   "metadata": {},
   "source": [
    "Installing all necessary packages\n"
   ]
  },
  {
   "cell_type": "code",
   "execution_count": 5,
   "metadata": {},
   "outputs": [
    {
     "name": "stdout",
     "output_type": "stream",
     "text": [
      "Defaulting to user installation because normal site-packages is not writeable\n",
      "Requirement already satisfied: sklearn in /Users/rakeshgautam/Library/Python/3.9/lib/python/site-packages (0.0)\n",
      "Requirement already satisfied: scikit-learn in /Users/rakeshgautam/Library/Python/3.9/lib/python/site-packages (from sklearn) (1.3.2)\n",
      "Requirement already satisfied: numpy<2.0,>=1.17.3 in /Users/rakeshgautam/Library/Python/3.9/lib/python/site-packages (from scikit-learn->sklearn) (1.26.3)\n",
      "Requirement already satisfied: scipy>=1.5.0 in /Users/rakeshgautam/Library/Python/3.9/lib/python/site-packages (from scikit-learn->sklearn) (1.11.4)\n",
      "Requirement already satisfied: joblib>=1.1.1 in /Users/rakeshgautam/Library/Python/3.9/lib/python/site-packages (from scikit-learn->sklearn) (1.3.2)\n",
      "Requirement already satisfied: threadpoolctl>=2.0.0 in /Users/rakeshgautam/Library/Python/3.9/lib/python/site-packages (from scikit-learn->sklearn) (3.2.0)\n",
      "Note: you may need to restart the kernel to use updated packages.\n",
      "Defaulting to user installation because normal site-packages is not writeable\n",
      "Requirement already satisfied: pandas in /Users/rakeshgautam/Library/Python/3.9/lib/python/site-packages (2.1.4)\n",
      "Requirement already satisfied: numpy<2,>=1.22.4 in /Users/rakeshgautam/Library/Python/3.9/lib/python/site-packages (from pandas) (1.26.3)\n",
      "Requirement already satisfied: python-dateutil>=2.8.2 in /Users/rakeshgautam/Library/Python/3.9/lib/python/site-packages (from pandas) (2.8.2)\n",
      "Requirement already satisfied: pytz>=2020.1 in /Users/rakeshgautam/Library/Python/3.9/lib/python/site-packages (from pandas) (2023.3.post1)\n",
      "Requirement already satisfied: tzdata>=2022.1 in /Users/rakeshgautam/Library/Python/3.9/lib/python/site-packages (from pandas) (2023.4)\n",
      "Requirement already satisfied: six>=1.5 in /Library/Developer/CommandLineTools/Library/Frameworks/Python3.framework/Versions/3.9/lib/python3.9/site-packages (from python-dateutil>=2.8.2->pandas) (1.15.0)\n",
      "Note: you may need to restart the kernel to use updated packages.\n",
      "Defaulting to user installation because normal site-packages is not writeable\n",
      "Requirement already satisfied: numpy in /Users/rakeshgautam/Library/Python/3.9/lib/python/site-packages (1.26.3)\n",
      "Note: you may need to restart the kernel to use updated packages.\n",
      "Defaulting to user installation because normal site-packages is not writeable\n",
      "Requirement already satisfied: matplotlib in /Users/rakeshgautam/Library/Python/3.9/lib/python/site-packages (3.8.2)\n",
      "Requirement already satisfied: contourpy>=1.0.1 in /Users/rakeshgautam/Library/Python/3.9/lib/python/site-packages (from matplotlib) (1.2.0)\n",
      "Requirement already satisfied: cycler>=0.10 in /Users/rakeshgautam/Library/Python/3.9/lib/python/site-packages (from matplotlib) (0.12.1)\n",
      "Requirement already satisfied: fonttools>=4.22.0 in /Users/rakeshgautam/Library/Python/3.9/lib/python/site-packages (from matplotlib) (4.47.0)\n",
      "Requirement already satisfied: kiwisolver>=1.3.1 in /Users/rakeshgautam/Library/Python/3.9/lib/python/site-packages (from matplotlib) (1.4.5)\n",
      "Requirement already satisfied: numpy<2,>=1.21 in /Users/rakeshgautam/Library/Python/3.9/lib/python/site-packages (from matplotlib) (1.26.3)\n",
      "Requirement already satisfied: packaging>=20.0 in /Users/rakeshgautam/Library/Python/3.9/lib/python/site-packages (from matplotlib) (23.2)\n",
      "Requirement already satisfied: pillow>=8 in /Users/rakeshgautam/Library/Python/3.9/lib/python/site-packages (from matplotlib) (10.2.0)\n",
      "Requirement already satisfied: pyparsing>=2.3.1 in /Users/rakeshgautam/Library/Python/3.9/lib/python/site-packages (from matplotlib) (3.1.1)\n",
      "Requirement already satisfied: python-dateutil>=2.7 in /Users/rakeshgautam/Library/Python/3.9/lib/python/site-packages (from matplotlib) (2.8.2)\n",
      "Requirement already satisfied: importlib-resources>=3.2.0 in /Users/rakeshgautam/Library/Python/3.9/lib/python/site-packages (from matplotlib) (6.1.1)\n",
      "Requirement already satisfied: zipp>=3.1.0 in /Users/rakeshgautam/Library/Python/3.9/lib/python/site-packages (from importlib-resources>=3.2.0->matplotlib) (3.17.0)\n",
      "Requirement already satisfied: six>=1.5 in /Library/Developer/CommandLineTools/Library/Frameworks/Python3.framework/Versions/3.9/lib/python3.9/site-packages (from python-dateutil>=2.7->matplotlib) (1.15.0)\n",
      "Note: you may need to restart the kernel to use updated packages.\n",
      "Defaulting to user installation because normal site-packages is not writeable\n",
      "Requirement already satisfied: nflfastpy in /Users/rakeshgautam/Library/Python/3.9/lib/python/site-packages (0.0.14)\n",
      "Requirement already satisfied: pandas in /Users/rakeshgautam/Library/Python/3.9/lib/python/site-packages (from nflfastpy) (2.1.4)\n",
      "Requirement already satisfied: requests in /Users/rakeshgautam/Library/Python/3.9/lib/python/site-packages (from nflfastpy) (2.31.0)\n",
      "Requirement already satisfied: matplotlib in /Users/rakeshgautam/Library/Python/3.9/lib/python/site-packages (from nflfastpy) (3.8.2)\n",
      "Requirement already satisfied: pyreadr in /Users/rakeshgautam/Library/Python/3.9/lib/python/site-packages (from nflfastpy) (0.5.0)\n",
      "Requirement already satisfied: contourpy>=1.0.1 in /Users/rakeshgautam/Library/Python/3.9/lib/python/site-packages (from matplotlib->nflfastpy) (1.2.0)\n",
      "Requirement already satisfied: cycler>=0.10 in /Users/rakeshgautam/Library/Python/3.9/lib/python/site-packages (from matplotlib->nflfastpy) (0.12.1)\n",
      "Requirement already satisfied: fonttools>=4.22.0 in /Users/rakeshgautam/Library/Python/3.9/lib/python/site-packages (from matplotlib->nflfastpy) (4.47.0)\n",
      "Requirement already satisfied: kiwisolver>=1.3.1 in /Users/rakeshgautam/Library/Python/3.9/lib/python/site-packages (from matplotlib->nflfastpy) (1.4.5)\n",
      "Requirement already satisfied: numpy<2,>=1.21 in /Users/rakeshgautam/Library/Python/3.9/lib/python/site-packages (from matplotlib->nflfastpy) (1.26.3)\n",
      "Requirement already satisfied: packaging>=20.0 in /Users/rakeshgautam/Library/Python/3.9/lib/python/site-packages (from matplotlib->nflfastpy) (23.2)\n",
      "Requirement already satisfied: pillow>=8 in /Users/rakeshgautam/Library/Python/3.9/lib/python/site-packages (from matplotlib->nflfastpy) (10.2.0)\n",
      "Requirement already satisfied: pyparsing>=2.3.1 in /Users/rakeshgautam/Library/Python/3.9/lib/python/site-packages (from matplotlib->nflfastpy) (3.1.1)\n",
      "Requirement already satisfied: python-dateutil>=2.7 in /Users/rakeshgautam/Library/Python/3.9/lib/python/site-packages (from matplotlib->nflfastpy) (2.8.2)\n",
      "Requirement already satisfied: importlib-resources>=3.2.0 in /Users/rakeshgautam/Library/Python/3.9/lib/python/site-packages (from matplotlib->nflfastpy) (6.1.1)\n",
      "Requirement already satisfied: pytz>=2020.1 in /Users/rakeshgautam/Library/Python/3.9/lib/python/site-packages (from pandas->nflfastpy) (2023.3.post1)\n",
      "Requirement already satisfied: tzdata>=2022.1 in /Users/rakeshgautam/Library/Python/3.9/lib/python/site-packages (from pandas->nflfastpy) (2023.4)\n",
      "Requirement already satisfied: charset-normalizer<4,>=2 in /Users/rakeshgautam/Library/Python/3.9/lib/python/site-packages (from requests->nflfastpy) (3.3.2)\n",
      "Requirement already satisfied: idna<4,>=2.5 in /Users/rakeshgautam/Library/Python/3.9/lib/python/site-packages (from requests->nflfastpy) (3.6)\n",
      "Requirement already satisfied: urllib3<3,>=1.21.1 in /Users/rakeshgautam/Library/Python/3.9/lib/python/site-packages (from requests->nflfastpy) (2.1.0)\n",
      "Requirement already satisfied: certifi>=2017.4.17 in /Users/rakeshgautam/Library/Python/3.9/lib/python/site-packages (from requests->nflfastpy) (2023.11.17)\n",
      "Requirement already satisfied: zipp>=3.1.0 in /Users/rakeshgautam/Library/Python/3.9/lib/python/site-packages (from importlib-resources>=3.2.0->matplotlib->nflfastpy) (3.17.0)\n",
      "Requirement already satisfied: six>=1.5 in /Library/Developer/CommandLineTools/Library/Frameworks/Python3.framework/Versions/3.9/lib/python3.9/site-packages (from python-dateutil>=2.7->matplotlib->nflfastpy) (1.15.0)\n",
      "Note: you may need to restart the kernel to use updated packages.\n",
      "Defaulting to user installation because normal site-packages is not writeable\n",
      "Collecting statsmodels\n",
      "  Downloading statsmodels-0.14.1-cp39-cp39-macosx_11_0_arm64.whl.metadata (9.5 kB)\n",
      "Requirement already satisfied: numpy<2,>=1.18 in /Users/rakeshgautam/Library/Python/3.9/lib/python/site-packages (from statsmodels) (1.26.3)\n",
      "Requirement already satisfied: scipy!=1.9.2,>=1.4 in /Users/rakeshgautam/Library/Python/3.9/lib/python/site-packages (from statsmodels) (1.11.4)\n",
      "Requirement already satisfied: pandas!=2.1.0,>=1.0 in /Users/rakeshgautam/Library/Python/3.9/lib/python/site-packages (from statsmodels) (2.1.4)\n",
      "Collecting patsy>=0.5.4 (from statsmodels)\n",
      "  Downloading patsy-0.5.5-py2.py3-none-any.whl.metadata (3.5 kB)\n",
      "Requirement already satisfied: packaging>=21.3 in /Users/rakeshgautam/Library/Python/3.9/lib/python/site-packages (from statsmodels) (23.2)\n",
      "Requirement already satisfied: python-dateutil>=2.8.2 in /Users/rakeshgautam/Library/Python/3.9/lib/python/site-packages (from pandas!=2.1.0,>=1.0->statsmodels) (2.8.2)\n",
      "Requirement already satisfied: pytz>=2020.1 in /Users/rakeshgautam/Library/Python/3.9/lib/python/site-packages (from pandas!=2.1.0,>=1.0->statsmodels) (2023.3.post1)\n",
      "Requirement already satisfied: tzdata>=2022.1 in /Users/rakeshgautam/Library/Python/3.9/lib/python/site-packages (from pandas!=2.1.0,>=1.0->statsmodels) (2023.4)\n",
      "Requirement already satisfied: six in /Library/Developer/CommandLineTools/Library/Frameworks/Python3.framework/Versions/3.9/lib/python3.9/site-packages (from patsy>=0.5.4->statsmodels) (1.15.0)\n",
      "Downloading statsmodels-0.14.1-cp39-cp39-macosx_11_0_arm64.whl (10.1 MB)\n",
      "\u001b[2K   \u001b[90m━━━━━━━━━━━━━━━━━━━━━━━━━━━━━━━━━━━━━━━━\u001b[0m \u001b[32m10.1/10.1 MB\u001b[0m \u001b[31m9.1 MB/s\u001b[0m eta \u001b[36m0:00:00\u001b[0m00:01\u001b[0m0:01\u001b[0mm\n",
      "\u001b[?25hDownloading patsy-0.5.5-py2.py3-none-any.whl (234 kB)\n",
      "\u001b[2K   \u001b[90m━━━━━━━━━━━━━━━━━━━━━━━━━━━━━━━━━━━━━━━━\u001b[0m \u001b[32m234.1/234.1 kB\u001b[0m \u001b[31m9.2 MB/s\u001b[0m eta \u001b[36m0:00:00\u001b[0m\n",
      "\u001b[?25hInstalling collected packages: patsy, statsmodels\n",
      "Successfully installed patsy-0.5.5 statsmodels-0.14.1\n",
      "Note: you may need to restart the kernel to use updated packages.\n",
      "Defaulting to user installation because normal site-packages is not writeable\n",
      "Requirement already satisfied: nfl_data_py in /Users/rakeshgautam/Library/Python/3.9/lib/python/site-packages (0.3.1)\n",
      "Requirement already satisfied: pandas>1 in /Users/rakeshgautam/Library/Python/3.9/lib/python/site-packages (from nfl_data_py) (2.1.4)\n",
      "Requirement already satisfied: appdirs>1 in /Users/rakeshgautam/Library/Python/3.9/lib/python/site-packages (from nfl_data_py) (1.4.4)\n",
      "Requirement already satisfied: fastparquet>0.5 in /Users/rakeshgautam/Library/Python/3.9/lib/python/site-packages (from nfl_data_py) (2023.10.1)\n",
      "Requirement already satisfied: python-snappy>0.5 in /Users/rakeshgautam/Library/Python/3.9/lib/python/site-packages (from nfl_data_py) (0.6.1)\n",
      "Requirement already satisfied: numpy>=1.20.3 in /Users/rakeshgautam/Library/Python/3.9/lib/python/site-packages (from fastparquet>0.5->nfl_data_py) (1.26.3)\n",
      "Requirement already satisfied: cramjam>=2.3 in /Users/rakeshgautam/Library/Python/3.9/lib/python/site-packages (from fastparquet>0.5->nfl_data_py) (2.7.0)\n",
      "Requirement already satisfied: fsspec in /Users/rakeshgautam/Library/Python/3.9/lib/python/site-packages (from fastparquet>0.5->nfl_data_py) (2023.12.2)\n",
      "Requirement already satisfied: packaging in /Users/rakeshgautam/Library/Python/3.9/lib/python/site-packages (from fastparquet>0.5->nfl_data_py) (23.2)\n",
      "Requirement already satisfied: python-dateutil>=2.8.2 in /Users/rakeshgautam/Library/Python/3.9/lib/python/site-packages (from pandas>1->nfl_data_py) (2.8.2)\n",
      "Requirement already satisfied: pytz>=2020.1 in /Users/rakeshgautam/Library/Python/3.9/lib/python/site-packages (from pandas>1->nfl_data_py) (2023.3.post1)\n",
      "Requirement already satisfied: tzdata>=2022.1 in /Users/rakeshgautam/Library/Python/3.9/lib/python/site-packages (from pandas>1->nfl_data_py) (2023.4)\n",
      "Requirement already satisfied: six>=1.5 in /Library/Developer/CommandLineTools/Library/Frameworks/Python3.framework/Versions/3.9/lib/python3.9/site-packages (from python-dateutil>=2.8.2->pandas>1->nfl_data_py) (1.15.0)\n",
      "Note: you may need to restart the kernel to use updated packages.\n",
      "Defaulting to user installation because normal site-packages is not writeable\n",
      "Requirement already satisfied: seaborn in /Users/rakeshgautam/Library/Python/3.9/lib/python/site-packages (0.13.1)\n",
      "Requirement already satisfied: numpy!=1.24.0,>=1.20 in /Users/rakeshgautam/Library/Python/3.9/lib/python/site-packages (from seaborn) (1.26.3)\n",
      "Requirement already satisfied: pandas>=1.2 in /Users/rakeshgautam/Library/Python/3.9/lib/python/site-packages (from seaborn) (2.1.4)\n",
      "Requirement already satisfied: matplotlib!=3.6.1,>=3.4 in /Users/rakeshgautam/Library/Python/3.9/lib/python/site-packages (from seaborn) (3.8.2)\n",
      "Requirement already satisfied: contourpy>=1.0.1 in /Users/rakeshgautam/Library/Python/3.9/lib/python/site-packages (from matplotlib!=3.6.1,>=3.4->seaborn) (1.2.0)\n",
      "Requirement already satisfied: cycler>=0.10 in /Users/rakeshgautam/Library/Python/3.9/lib/python/site-packages (from matplotlib!=3.6.1,>=3.4->seaborn) (0.12.1)\n",
      "Requirement already satisfied: fonttools>=4.22.0 in /Users/rakeshgautam/Library/Python/3.9/lib/python/site-packages (from matplotlib!=3.6.1,>=3.4->seaborn) (4.47.0)\n",
      "Requirement already satisfied: kiwisolver>=1.3.1 in /Users/rakeshgautam/Library/Python/3.9/lib/python/site-packages (from matplotlib!=3.6.1,>=3.4->seaborn) (1.4.5)\n",
      "Requirement already satisfied: packaging>=20.0 in /Users/rakeshgautam/Library/Python/3.9/lib/python/site-packages (from matplotlib!=3.6.1,>=3.4->seaborn) (23.2)\n",
      "Requirement already satisfied: pillow>=8 in /Users/rakeshgautam/Library/Python/3.9/lib/python/site-packages (from matplotlib!=3.6.1,>=3.4->seaborn) (10.2.0)\n",
      "Requirement already satisfied: pyparsing>=2.3.1 in /Users/rakeshgautam/Library/Python/3.9/lib/python/site-packages (from matplotlib!=3.6.1,>=3.4->seaborn) (3.1.1)\n",
      "Requirement already satisfied: python-dateutil>=2.7 in /Users/rakeshgautam/Library/Python/3.9/lib/python/site-packages (from matplotlib!=3.6.1,>=3.4->seaborn) (2.8.2)\n",
      "Requirement already satisfied: importlib-resources>=3.2.0 in /Users/rakeshgautam/Library/Python/3.9/lib/python/site-packages (from matplotlib!=3.6.1,>=3.4->seaborn) (6.1.1)\n",
      "Requirement already satisfied: pytz>=2020.1 in /Users/rakeshgautam/Library/Python/3.9/lib/python/site-packages (from pandas>=1.2->seaborn) (2023.3.post1)\n",
      "Requirement already satisfied: tzdata>=2022.1 in /Users/rakeshgautam/Library/Python/3.9/lib/python/site-packages (from pandas>=1.2->seaborn) (2023.4)\n",
      "Requirement already satisfied: zipp>=3.1.0 in /Users/rakeshgautam/Library/Python/3.9/lib/python/site-packages (from importlib-resources>=3.2.0->matplotlib!=3.6.1,>=3.4->seaborn) (3.17.0)\n",
      "Requirement already satisfied: six>=1.5 in /Library/Developer/CommandLineTools/Library/Frameworks/Python3.framework/Versions/3.9/lib/python3.9/site-packages (from python-dateutil>=2.7->matplotlib!=3.6.1,>=3.4->seaborn) (1.15.0)\n",
      "Note: you may need to restart the kernel to use updated packages.\n",
      "Defaulting to user installation because normal site-packages is not writeable\n",
      "Requirement already satisfied: xgboost in /Users/rakeshgautam/Library/Python/3.9/lib/python/site-packages (2.0.3)\n",
      "Requirement already satisfied: numpy in /Users/rakeshgautam/Library/Python/3.9/lib/python/site-packages (from xgboost) (1.26.3)\n",
      "Requirement already satisfied: scipy in /Users/rakeshgautam/Library/Python/3.9/lib/python/site-packages (from xgboost) (1.11.4)\n",
      "Note: you may need to restart the kernel to use updated packages.\n"
     ]
    }
   ],
   "source": [
    "%pip install sklearn\n",
    "%pip install pandas\n",
    "%pip install numpy\n",
    "%pip install matplotlib\n",
    "%pip install nflfastpy\n",
    "%pip install statsmodels\n",
    "\n",
    "%pip install nfl_data_py\n",
    "%pip install seaborn\n",
    "%pip install xgboost"
   ]
  },
  {
   "cell_type": "code",
   "execution_count": 6,
   "metadata": {},
   "outputs": [],
   "source": [
    "import nfl_data_py as nfl\n",
    "import pandas as pd\n",
    "import matplotlib.pyplot as plt\n",
    "import numpy as np\n",
    "import seaborn as sns\n",
    "import statsmodels.api as sm\n",
    "from sklearn.model_selection import StratifiedShuffleSplit\n",
    "from sklearn.linear_model import LogisticRegression\n",
    "from sklearn.ensemble import RandomForestClassifier\n",
    "from sklearn.metrics import brier_score_loss\n",
    "from xgboost import XGBClassifier"
   ]
  },
  {
   "cell_type": "code",
   "execution_count": 7,
   "metadata": {},
   "outputs": [
    {
     "name": "stdout",
     "output_type": "stream",
     "text": [
      "2023 done.\n",
      "Downcasting floats.\n"
     ]
    }
   ],
   "source": [
    "pbp = nfl.import_pbp_data([2023])"
   ]
  },
  {
   "cell_type": "code",
   "execution_count": 1,
   "metadata": {},
   "outputs": [
    {
     "ename": "NameError",
     "evalue": "name 'pbp' is not defined",
     "output_type": "error",
     "traceback": [
      "\u001b[0;31m---------------------------------------------------------------------------\u001b[0m",
      "\u001b[0;31mNameError\u001b[0m                                 Traceback (most recent call last)",
      "Cell \u001b[0;32mIn[1], line 2\u001b[0m\n\u001b[1;32m      1\u001b[0m \u001b[38;5;66;03m# 'yards_gained' and 'yards_lost' are the predictor variables.\u001b[39;00m\n\u001b[0;32m----> 2\u001b[0m X \u001b[38;5;241m=\u001b[39m \u001b[43mpbp\u001b[49m[[\u001b[38;5;124m'\u001b[39m\u001b[38;5;124myards_gained\u001b[39m\u001b[38;5;124m'\u001b[39m, \u001b[38;5;124m'\u001b[39m\u001b[38;5;124myards_lost\u001b[39m\u001b[38;5;124m'\u001b[39m]]\n\u001b[1;32m      3\u001b[0m y \u001b[38;5;241m=\u001b[39m pbp[\u001b[38;5;124m'\u001b[39m\u001b[38;5;124mwin\u001b[39m\u001b[38;5;124m'\u001b[39m]\n\u001b[1;32m      5\u001b[0m \u001b[38;5;66;03m# Add a constant to the predictor variables\u001b[39;00m\n",
      "\u001b[0;31mNameError\u001b[0m: name 'pbp' is not defined"
     ]
    }
   ],
   "source": []
  }
 ],
 "metadata": {
  "kernelspec": {
   "display_name": "Python 3",
   "language": "python",
   "name": "python3"
  },
  "language_info": {
   "codemirror_mode": {
    "name": "ipython",
    "version": 3
   },
   "file_extension": ".py",
   "mimetype": "text/x-python",
   "name": "python",
   "nbconvert_exporter": "python",
   "pygments_lexer": "ipython3",
   "version": "3.9.6"
  }
 },
 "nbformat": 4,
 "nbformat_minor": 2
}
