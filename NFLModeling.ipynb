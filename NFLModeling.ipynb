{
 "cells": [
  {
   "cell_type": "markdown",
   "metadata": {},
   "source": [
    "Upgrade pip installer to match python version"
   ]
  },
  {
   "cell_type": "code",
   "execution_count": 1,
   "metadata": {},
   "outputs": [
    {
     "name": "stdout",
     "output_type": "stream",
     "text": [
      "Defaulting to user installation because normal site-packages is not writeable\n",
      "Requirement already satisfied: pip in /Users/rakeshgautam/Library/Python/3.9/lib/python/site-packages (24.0)\n",
      "Note: you may need to restart the kernel to use updated packages.\n"
     ]
    }
   ],
   "source": [
    "%pip install --upgrade pip"
   ]
  },
  {
   "cell_type": "markdown",
   "metadata": {},
   "source": [
    "Installing all necessary packages\n"
   ]
  },
  {
   "cell_type": "code",
   "execution_count": 2,
   "metadata": {},
   "outputs": [
    {
     "name": "stdout",
     "output_type": "stream",
     "text": [
      "Defaulting to user installation because normal site-packages is not writeable\n",
      "Requirement already satisfied: sklearn in /Users/rakeshgautam/Library/Python/3.9/lib/python/site-packages (0.0)\n",
      "Requirement already satisfied: scikit-learn in /Users/rakeshgautam/Library/Python/3.9/lib/python/site-packages (from sklearn) (1.3.2)\n",
      "Requirement already satisfied: numpy<2.0,>=1.17.3 in /Users/rakeshgautam/Library/Python/3.9/lib/python/site-packages (from scikit-learn->sklearn) (1.26.3)\n",
      "Requirement already satisfied: scipy>=1.5.0 in /Users/rakeshgautam/Library/Python/3.9/lib/python/site-packages (from scikit-learn->sklearn) (1.11.4)\n",
      "Requirement already satisfied: joblib>=1.1.1 in /Users/rakeshgautam/Library/Python/3.9/lib/python/site-packages (from scikit-learn->sklearn) (1.3.2)\n",
      "Requirement already satisfied: threadpoolctl>=2.0.0 in /Users/rakeshgautam/Library/Python/3.9/lib/python/site-packages (from scikit-learn->sklearn) (3.2.0)\n",
      "Note: you may need to restart the kernel to use updated packages.\n",
      "Defaulting to user installation because normal site-packages is not writeable\n",
      "Requirement already satisfied: pandas in /Users/rakeshgautam/Library/Python/3.9/lib/python/site-packages (2.1.4)\n",
      "Requirement already satisfied: numpy<2,>=1.22.4 in /Users/rakeshgautam/Library/Python/3.9/lib/python/site-packages (from pandas) (1.26.3)\n",
      "Requirement already satisfied: python-dateutil>=2.8.2 in /Users/rakeshgautam/Library/Python/3.9/lib/python/site-packages (from pandas) (2.8.2)\n",
      "Requirement already satisfied: pytz>=2020.1 in /Users/rakeshgautam/Library/Python/3.9/lib/python/site-packages (from pandas) (2023.3.post1)\n",
      "Requirement already satisfied: tzdata>=2022.1 in /Users/rakeshgautam/Library/Python/3.9/lib/python/site-packages (from pandas) (2023.4)\n",
      "Requirement already satisfied: six>=1.5 in /Library/Developer/CommandLineTools/Library/Frameworks/Python3.framework/Versions/3.9/lib/python3.9/site-packages (from python-dateutil>=2.8.2->pandas) (1.15.0)\n",
      "Note: you may need to restart the kernel to use updated packages.\n",
      "Defaulting to user installation because normal site-packages is not writeable\n",
      "Requirement already satisfied: numpy in /Users/rakeshgautam/Library/Python/3.9/lib/python/site-packages (1.26.3)\n",
      "Note: you may need to restart the kernel to use updated packages.\n",
      "Defaulting to user installation because normal site-packages is not writeable\n",
      "Requirement already satisfied: matplotlib in /Users/rakeshgautam/Library/Python/3.9/lib/python/site-packages (3.8.2)\n",
      "Requirement already satisfied: contourpy>=1.0.1 in /Users/rakeshgautam/Library/Python/3.9/lib/python/site-packages (from matplotlib) (1.2.0)\n",
      "Requirement already satisfied: cycler>=0.10 in /Users/rakeshgautam/Library/Python/3.9/lib/python/site-packages (from matplotlib) (0.12.1)\n",
      "Requirement already satisfied: fonttools>=4.22.0 in /Users/rakeshgautam/Library/Python/3.9/lib/python/site-packages (from matplotlib) (4.47.0)\n",
      "Requirement already satisfied: kiwisolver>=1.3.1 in /Users/rakeshgautam/Library/Python/3.9/lib/python/site-packages (from matplotlib) (1.4.5)\n",
      "Requirement already satisfied: numpy<2,>=1.21 in /Users/rakeshgautam/Library/Python/3.9/lib/python/site-packages (from matplotlib) (1.26.3)\n",
      "Requirement already satisfied: packaging>=20.0 in /Users/rakeshgautam/Library/Python/3.9/lib/python/site-packages (from matplotlib) (23.2)\n",
      "Requirement already satisfied: pillow>=8 in /Users/rakeshgautam/Library/Python/3.9/lib/python/site-packages (from matplotlib) (10.2.0)\n",
      "Requirement already satisfied: pyparsing>=2.3.1 in /Users/rakeshgautam/Library/Python/3.9/lib/python/site-packages (from matplotlib) (3.1.1)\n",
      "Requirement already satisfied: python-dateutil>=2.7 in /Users/rakeshgautam/Library/Python/3.9/lib/python/site-packages (from matplotlib) (2.8.2)\n",
      "Requirement already satisfied: importlib-resources>=3.2.0 in /Users/rakeshgautam/Library/Python/3.9/lib/python/site-packages (from matplotlib) (6.1.1)\n",
      "Requirement already satisfied: zipp>=3.1.0 in /Users/rakeshgautam/Library/Python/3.9/lib/python/site-packages (from importlib-resources>=3.2.0->matplotlib) (3.17.0)\n",
      "Requirement already satisfied: six>=1.5 in /Library/Developer/CommandLineTools/Library/Frameworks/Python3.framework/Versions/3.9/lib/python3.9/site-packages (from python-dateutil>=2.7->matplotlib) (1.15.0)\n",
      "Note: you may need to restart the kernel to use updated packages.\n",
      "Defaulting to user installation because normal site-packages is not writeable\n",
      "Requirement already satisfied: nflfastpy in /Users/rakeshgautam/Library/Python/3.9/lib/python/site-packages (0.0.14)\n",
      "Requirement already satisfied: pandas in /Users/rakeshgautam/Library/Python/3.9/lib/python/site-packages (from nflfastpy) (2.1.4)\n",
      "Requirement already satisfied: requests in /Users/rakeshgautam/Library/Python/3.9/lib/python/site-packages (from nflfastpy) (2.31.0)\n",
      "Requirement already satisfied: matplotlib in /Users/rakeshgautam/Library/Python/3.9/lib/python/site-packages (from nflfastpy) (3.8.2)\n",
      "Requirement already satisfied: pyreadr in /Users/rakeshgautam/Library/Python/3.9/lib/python/site-packages (from nflfastpy) (0.5.0)\n",
      "Requirement already satisfied: contourpy>=1.0.1 in /Users/rakeshgautam/Library/Python/3.9/lib/python/site-packages (from matplotlib->nflfastpy) (1.2.0)\n",
      "Requirement already satisfied: cycler>=0.10 in /Users/rakeshgautam/Library/Python/3.9/lib/python/site-packages (from matplotlib->nflfastpy) (0.12.1)\n",
      "Requirement already satisfied: fonttools>=4.22.0 in /Users/rakeshgautam/Library/Python/3.9/lib/python/site-packages (from matplotlib->nflfastpy) (4.47.0)\n",
      "Requirement already satisfied: kiwisolver>=1.3.1 in /Users/rakeshgautam/Library/Python/3.9/lib/python/site-packages (from matplotlib->nflfastpy) (1.4.5)\n",
      "Requirement already satisfied: numpy<2,>=1.21 in /Users/rakeshgautam/Library/Python/3.9/lib/python/site-packages (from matplotlib->nflfastpy) (1.26.3)\n",
      "Requirement already satisfied: packaging>=20.0 in /Users/rakeshgautam/Library/Python/3.9/lib/python/site-packages (from matplotlib->nflfastpy) (23.2)\n",
      "Requirement already satisfied: pillow>=8 in /Users/rakeshgautam/Library/Python/3.9/lib/python/site-packages (from matplotlib->nflfastpy) (10.2.0)\n",
      "Requirement already satisfied: pyparsing>=2.3.1 in /Users/rakeshgautam/Library/Python/3.9/lib/python/site-packages (from matplotlib->nflfastpy) (3.1.1)\n",
      "Requirement already satisfied: python-dateutil>=2.7 in /Users/rakeshgautam/Library/Python/3.9/lib/python/site-packages (from matplotlib->nflfastpy) (2.8.2)\n",
      "Requirement already satisfied: importlib-resources>=3.2.0 in /Users/rakeshgautam/Library/Python/3.9/lib/python/site-packages (from matplotlib->nflfastpy) (6.1.1)\n",
      "Requirement already satisfied: pytz>=2020.1 in /Users/rakeshgautam/Library/Python/3.9/lib/python/site-packages (from pandas->nflfastpy) (2023.3.post1)\n",
      "Requirement already satisfied: tzdata>=2022.1 in /Users/rakeshgautam/Library/Python/3.9/lib/python/site-packages (from pandas->nflfastpy) (2023.4)\n",
      "Requirement already satisfied: charset-normalizer<4,>=2 in /Users/rakeshgautam/Library/Python/3.9/lib/python/site-packages (from requests->nflfastpy) (3.3.2)\n",
      "Requirement already satisfied: idna<4,>=2.5 in /Users/rakeshgautam/Library/Python/3.9/lib/python/site-packages (from requests->nflfastpy) (3.6)\n",
      "Requirement already satisfied: urllib3<3,>=1.21.1 in /Users/rakeshgautam/Library/Python/3.9/lib/python/site-packages (from requests->nflfastpy) (2.1.0)\n",
      "Requirement already satisfied: certifi>=2017.4.17 in /Users/rakeshgautam/Library/Python/3.9/lib/python/site-packages (from requests->nflfastpy) (2023.11.17)\n",
      "Requirement already satisfied: zipp>=3.1.0 in /Users/rakeshgautam/Library/Python/3.9/lib/python/site-packages (from importlib-resources>=3.2.0->matplotlib->nflfastpy) (3.17.0)\n",
      "Requirement already satisfied: six>=1.5 in /Library/Developer/CommandLineTools/Library/Frameworks/Python3.framework/Versions/3.9/lib/python3.9/site-packages (from python-dateutil>=2.7->matplotlib->nflfastpy) (1.15.0)\n",
      "Note: you may need to restart the kernel to use updated packages.\n",
      "Defaulting to user installation because normal site-packages is not writeable\n",
      "Requirement already satisfied: statsmodels in /Users/rakeshgautam/Library/Python/3.9/lib/python/site-packages (0.14.1)\n",
      "Requirement already satisfied: numpy<2,>=1.18 in /Users/rakeshgautam/Library/Python/3.9/lib/python/site-packages (from statsmodels) (1.26.3)\n",
      "Requirement already satisfied: scipy!=1.9.2,>=1.4 in /Users/rakeshgautam/Library/Python/3.9/lib/python/site-packages (from statsmodels) (1.11.4)\n",
      "Requirement already satisfied: pandas!=2.1.0,>=1.0 in /Users/rakeshgautam/Library/Python/3.9/lib/python/site-packages (from statsmodels) (2.1.4)\n",
      "Requirement already satisfied: patsy>=0.5.4 in /Users/rakeshgautam/Library/Python/3.9/lib/python/site-packages (from statsmodels) (0.5.5)\n",
      "Requirement already satisfied: packaging>=21.3 in /Users/rakeshgautam/Library/Python/3.9/lib/python/site-packages (from statsmodels) (23.2)\n",
      "Requirement already satisfied: python-dateutil>=2.8.2 in /Users/rakeshgautam/Library/Python/3.9/lib/python/site-packages (from pandas!=2.1.0,>=1.0->statsmodels) (2.8.2)\n",
      "Requirement already satisfied: pytz>=2020.1 in /Users/rakeshgautam/Library/Python/3.9/lib/python/site-packages (from pandas!=2.1.0,>=1.0->statsmodels) (2023.3.post1)\n",
      "Requirement already satisfied: tzdata>=2022.1 in /Users/rakeshgautam/Library/Python/3.9/lib/python/site-packages (from pandas!=2.1.0,>=1.0->statsmodels) (2023.4)\n",
      "Requirement already satisfied: six in /Library/Developer/CommandLineTools/Library/Frameworks/Python3.framework/Versions/3.9/lib/python3.9/site-packages (from patsy>=0.5.4->statsmodels) (1.15.0)\n",
      "Note: you may need to restart the kernel to use updated packages.\n",
      "Defaulting to user installation because normal site-packages is not writeable\n",
      "Requirement already satisfied: nfl_data_py in /Users/rakeshgautam/Library/Python/3.9/lib/python/site-packages (0.3.1)\n",
      "Requirement already satisfied: pandas>1 in /Users/rakeshgautam/Library/Python/3.9/lib/python/site-packages (from nfl_data_py) (2.1.4)\n",
      "Requirement already satisfied: appdirs>1 in /Users/rakeshgautam/Library/Python/3.9/lib/python/site-packages (from nfl_data_py) (1.4.4)\n",
      "Requirement already satisfied: fastparquet>0.5 in /Users/rakeshgautam/Library/Python/3.9/lib/python/site-packages (from nfl_data_py) (2023.10.1)\n",
      "Requirement already satisfied: python-snappy>0.5 in /Users/rakeshgautam/Library/Python/3.9/lib/python/site-packages (from nfl_data_py) (0.6.1)\n",
      "Requirement already satisfied: numpy>=1.20.3 in /Users/rakeshgautam/Library/Python/3.9/lib/python/site-packages (from fastparquet>0.5->nfl_data_py) (1.26.3)\n",
      "Requirement already satisfied: cramjam>=2.3 in /Users/rakeshgautam/Library/Python/3.9/lib/python/site-packages (from fastparquet>0.5->nfl_data_py) (2.7.0)\n",
      "Requirement already satisfied: fsspec in /Users/rakeshgautam/Library/Python/3.9/lib/python/site-packages (from fastparquet>0.5->nfl_data_py) (2023.12.2)\n",
      "Requirement already satisfied: packaging in /Users/rakeshgautam/Library/Python/3.9/lib/python/site-packages (from fastparquet>0.5->nfl_data_py) (23.2)\n",
      "Requirement already satisfied: python-dateutil>=2.8.2 in /Users/rakeshgautam/Library/Python/3.9/lib/python/site-packages (from pandas>1->nfl_data_py) (2.8.2)\n",
      "Requirement already satisfied: pytz>=2020.1 in /Users/rakeshgautam/Library/Python/3.9/lib/python/site-packages (from pandas>1->nfl_data_py) (2023.3.post1)\n",
      "Requirement already satisfied: tzdata>=2022.1 in /Users/rakeshgautam/Library/Python/3.9/lib/python/site-packages (from pandas>1->nfl_data_py) (2023.4)\n",
      "Requirement already satisfied: six>=1.5 in /Library/Developer/CommandLineTools/Library/Frameworks/Python3.framework/Versions/3.9/lib/python3.9/site-packages (from python-dateutil>=2.8.2->pandas>1->nfl_data_py) (1.15.0)\n",
      "Note: you may need to restart the kernel to use updated packages.\n",
      "Defaulting to user installation because normal site-packages is not writeable\n",
      "Requirement already satisfied: seaborn in /Users/rakeshgautam/Library/Python/3.9/lib/python/site-packages (0.13.1)\n",
      "Requirement already satisfied: numpy!=1.24.0,>=1.20 in /Users/rakeshgautam/Library/Python/3.9/lib/python/site-packages (from seaborn) (1.26.3)\n",
      "Requirement already satisfied: pandas>=1.2 in /Users/rakeshgautam/Library/Python/3.9/lib/python/site-packages (from seaborn) (2.1.4)\n",
      "Requirement already satisfied: matplotlib!=3.6.1,>=3.4 in /Users/rakeshgautam/Library/Python/3.9/lib/python/site-packages (from seaborn) (3.8.2)\n",
      "Requirement already satisfied: contourpy>=1.0.1 in /Users/rakeshgautam/Library/Python/3.9/lib/python/site-packages (from matplotlib!=3.6.1,>=3.4->seaborn) (1.2.0)\n",
      "Requirement already satisfied: cycler>=0.10 in /Users/rakeshgautam/Library/Python/3.9/lib/python/site-packages (from matplotlib!=3.6.1,>=3.4->seaborn) (0.12.1)\n",
      "Requirement already satisfied: fonttools>=4.22.0 in /Users/rakeshgautam/Library/Python/3.9/lib/python/site-packages (from matplotlib!=3.6.1,>=3.4->seaborn) (4.47.0)\n",
      "Requirement already satisfied: kiwisolver>=1.3.1 in /Users/rakeshgautam/Library/Python/3.9/lib/python/site-packages (from matplotlib!=3.6.1,>=3.4->seaborn) (1.4.5)\n",
      "Requirement already satisfied: packaging>=20.0 in /Users/rakeshgautam/Library/Python/3.9/lib/python/site-packages (from matplotlib!=3.6.1,>=3.4->seaborn) (23.2)\n",
      "Requirement already satisfied: pillow>=8 in /Users/rakeshgautam/Library/Python/3.9/lib/python/site-packages (from matplotlib!=3.6.1,>=3.4->seaborn) (10.2.0)\n",
      "Requirement already satisfied: pyparsing>=2.3.1 in /Users/rakeshgautam/Library/Python/3.9/lib/python/site-packages (from matplotlib!=3.6.1,>=3.4->seaborn) (3.1.1)\n",
      "Requirement already satisfied: python-dateutil>=2.7 in /Users/rakeshgautam/Library/Python/3.9/lib/python/site-packages (from matplotlib!=3.6.1,>=3.4->seaborn) (2.8.2)\n",
      "Requirement already satisfied: importlib-resources>=3.2.0 in /Users/rakeshgautam/Library/Python/3.9/lib/python/site-packages (from matplotlib!=3.6.1,>=3.4->seaborn) (6.1.1)\n",
      "Requirement already satisfied: pytz>=2020.1 in /Users/rakeshgautam/Library/Python/3.9/lib/python/site-packages (from pandas>=1.2->seaborn) (2023.3.post1)\n",
      "Requirement already satisfied: tzdata>=2022.1 in /Users/rakeshgautam/Library/Python/3.9/lib/python/site-packages (from pandas>=1.2->seaborn) (2023.4)\n",
      "Requirement already satisfied: zipp>=3.1.0 in /Users/rakeshgautam/Library/Python/3.9/lib/python/site-packages (from importlib-resources>=3.2.0->matplotlib!=3.6.1,>=3.4->seaborn) (3.17.0)\n",
      "Requirement already satisfied: six>=1.5 in /Library/Developer/CommandLineTools/Library/Frameworks/Python3.framework/Versions/3.9/lib/python3.9/site-packages (from python-dateutil>=2.7->matplotlib!=3.6.1,>=3.4->seaborn) (1.15.0)\n",
      "Note: you may need to restart the kernel to use updated packages.\n",
      "Defaulting to user installation because normal site-packages is not writeable\n",
      "Requirement already satisfied: xgboost in /Users/rakeshgautam/Library/Python/3.9/lib/python/site-packages (2.0.3)\n",
      "Requirement already satisfied: numpy in /Users/rakeshgautam/Library/Python/3.9/lib/python/site-packages (from xgboost) (1.26.3)\n",
      "Requirement already satisfied: scipy in /Users/rakeshgautam/Library/Python/3.9/lib/python/site-packages (from xgboost) (1.11.4)\n",
      "Note: you may need to restart the kernel to use updated packages.\n"
     ]
    }
   ],
   "source": [
    "%pip install sklearn\n",
    "%pip install pandas\n",
    "%pip install numpy\n",
    "%pip install matplotlib\n",
    "%pip install nflfastpy\n",
    "%pip install statsmodels\n",
    "\n",
    "%pip install nfl_data_py\n",
    "%pip install seaborn\n",
    "%pip install xgboost"
   ]
  },
  {
   "cell_type": "code",
   "execution_count": 3,
   "metadata": {},
   "outputs": [],
   "source": [
    "import nfl_data_py as nfl\n",
    "import pandas as pd\n",
    "import matplotlib.pyplot as plt\n",
    "import numpy as np\n",
    "import seaborn as sns\n",
    "import statsmodels.api as sm\n",
    "from sklearn.model_selection import StratifiedShuffleSplit\n",
    "from sklearn.linear_model import LogisticRegression\n",
    "from sklearn.ensemble import RandomForestClassifier\n",
    "from sklearn.metrics import brier_score_loss\n",
    "from xgboost import XGBClassifier"
   ]
  },
  {
   "cell_type": "code",
   "execution_count": 1,
   "metadata": {},
   "outputs": [
    {
     "ename": "NameError",
     "evalue": "name 'nfl' is not defined",
     "output_type": "error",
     "traceback": [
      "\u001b[0;31m---------------------------------------------------------------------------\u001b[0m",
      "\u001b[0;31mNameError\u001b[0m                                 Traceback (most recent call last)",
      "Cell \u001b[0;32mIn[1], line 1\u001b[0m\n\u001b[0;32m----> 1\u001b[0m pbp \u001b[38;5;241m=\u001b[39m \u001b[43mnfl\u001b[49m\u001b[38;5;241m.\u001b[39mimport_pbp_data([\u001b[38;5;241m2022\u001b[39m, \u001b[38;5;241m2023\u001b[39m])\n",
      "\u001b[0;31mNameError\u001b[0m: name 'nfl' is not defined"
     ]
    }
   ],
   "source": [
    "pbp = nfl.import_pbp_data([2022, 2023])"
   ]
  },
  {
   "cell_type": "code",
   "execution_count": 4,
   "metadata": {},
   "outputs": [
    {
     "data": {
      "text/html": [
       "<div>\n",
       "<style scoped>\n",
       "    .dataframe tbody tr th:only-of-type {\n",
       "        vertical-align: middle;\n",
       "    }\n",
       "\n",
       "    .dataframe tbody tr th {\n",
       "        vertical-align: top;\n",
       "    }\n",
       "\n",
       "    .dataframe thead th {\n",
       "        text-align: right;\n",
       "    }\n",
       "</style>\n",
       "<table border=\"1\" class=\"dataframe\">\n",
       "  <thead>\n",
       "    <tr style=\"text-align: right;\">\n",
       "      <th></th>\n",
       "      <th>play_id</th>\n",
       "      <th>game_id</th>\n",
       "      <th>old_game_id</th>\n",
       "      <th>home_team</th>\n",
       "      <th>away_team</th>\n",
       "      <th>season_type</th>\n",
       "      <th>week</th>\n",
       "      <th>posteam</th>\n",
       "      <th>posteam_type</th>\n",
       "      <th>defteam</th>\n",
       "      <th>...</th>\n",
       "      <th>offense_players</th>\n",
       "      <th>defense_players</th>\n",
       "      <th>n_offense</th>\n",
       "      <th>n_defense</th>\n",
       "      <th>ngs_air_yards</th>\n",
       "      <th>time_to_throw</th>\n",
       "      <th>was_pressure</th>\n",
       "      <th>route</th>\n",
       "      <th>defense_man_zone_type</th>\n",
       "      <th>defense_coverage_type</th>\n",
       "    </tr>\n",
       "  </thead>\n",
       "  <tbody>\n",
       "    <tr>\n",
       "      <th>0</th>\n",
       "      <td>1.0</td>\n",
       "      <td>2022_01_BAL_NYJ</td>\n",
       "      <td>2022091107</td>\n",
       "      <td>NYJ</td>\n",
       "      <td>BAL</td>\n",
       "      <td>REG</td>\n",
       "      <td>1</td>\n",
       "      <td>None</td>\n",
       "      <td>None</td>\n",
       "      <td>None</td>\n",
       "      <td>...</td>\n",
       "      <td></td>\n",
       "      <td></td>\n",
       "      <td>0.0</td>\n",
       "      <td>0.0</td>\n",
       "      <td>NaN</td>\n",
       "      <td>NaN</td>\n",
       "      <td>NaN</td>\n",
       "      <td>None</td>\n",
       "      <td>None</td>\n",
       "      <td>None</td>\n",
       "    </tr>\n",
       "    <tr>\n",
       "      <th>1</th>\n",
       "      <td>43.0</td>\n",
       "      <td>2022_01_BAL_NYJ</td>\n",
       "      <td>2022091107</td>\n",
       "      <td>NYJ</td>\n",
       "      <td>BAL</td>\n",
       "      <td>REG</td>\n",
       "      <td>1</td>\n",
       "      <td>NYJ</td>\n",
       "      <td>home</td>\n",
       "      <td>BAL</td>\n",
       "      <td>...</td>\n",
       "      <td>00-0036157;00-0035202;00-0037984;00-0029597;00...</td>\n",
       "      <td>00-0035537;00-0032134;00-0034419;00-0036500;00...</td>\n",
       "      <td>11.0</td>\n",
       "      <td>11.0</td>\n",
       "      <td>NaN</td>\n",
       "      <td>NaN</td>\n",
       "      <td>NaN</td>\n",
       "      <td>None</td>\n",
       "      <td>None</td>\n",
       "      <td>None</td>\n",
       "    </tr>\n",
       "    <tr>\n",
       "      <th>2</th>\n",
       "      <td>68.0</td>\n",
       "      <td>2022_01_BAL_NYJ</td>\n",
       "      <td>2022091107</td>\n",
       "      <td>NYJ</td>\n",
       "      <td>BAL</td>\n",
       "      <td>REG</td>\n",
       "      <td>1</td>\n",
       "      <td>NYJ</td>\n",
       "      <td>home</td>\n",
       "      <td>BAL</td>\n",
       "      <td>...</td>\n",
       "      <td>00-0036924;00-0032466;00-0036979;00-0032234;00...</td>\n",
       "      <td>00-0033294;00-0026190;00-0032574;00-0028278;00...</td>\n",
       "      <td>11.0</td>\n",
       "      <td>11.0</td>\n",
       "      <td>NaN</td>\n",
       "      <td>NaN</td>\n",
       "      <td>NaN</td>\n",
       "      <td>None</td>\n",
       "      <td>None</td>\n",
       "      <td>None</td>\n",
       "    </tr>\n",
       "    <tr>\n",
       "      <th>3</th>\n",
       "      <td>89.0</td>\n",
       "      <td>2022_01_BAL_NYJ</td>\n",
       "      <td>2022091107</td>\n",
       "      <td>NYJ</td>\n",
       "      <td>BAL</td>\n",
       "      <td>REG</td>\n",
       "      <td>1</td>\n",
       "      <td>NYJ</td>\n",
       "      <td>home</td>\n",
       "      <td>BAL</td>\n",
       "      <td>...</td>\n",
       "      <td>00-0036924;00-0032466;00-0032234;00-0036979;00...</td>\n",
       "      <td>00-0033294;00-0026190;00-0032574;00-0028278;00...</td>\n",
       "      <td>11.0</td>\n",
       "      <td>11.0</td>\n",
       "      <td>0.56</td>\n",
       "      <td>3.07</td>\n",
       "      <td>1.0</td>\n",
       "      <td>ANGLE</td>\n",
       "      <td>ZONE_COVERAGE</td>\n",
       "      <td>COVER_2</td>\n",
       "    </tr>\n",
       "    <tr>\n",
       "      <th>4</th>\n",
       "      <td>115.0</td>\n",
       "      <td>2022_01_BAL_NYJ</td>\n",
       "      <td>2022091107</td>\n",
       "      <td>NYJ</td>\n",
       "      <td>BAL</td>\n",
       "      <td>REG</td>\n",
       "      <td>1</td>\n",
       "      <td>NYJ</td>\n",
       "      <td>home</td>\n",
       "      <td>BAL</td>\n",
       "      <td>...</td>\n",
       "      <td>00-0036924;00-0032466;00-0036979;00-0032234;00...</td>\n",
       "      <td>00-0033294;00-0026190;00-0032574;00-0028278;00...</td>\n",
       "      <td>11.0</td>\n",
       "      <td>11.0</td>\n",
       "      <td>NaN</td>\n",
       "      <td>NaN</td>\n",
       "      <td>NaN</td>\n",
       "      <td>None</td>\n",
       "      <td>None</td>\n",
       "      <td>None</td>\n",
       "    </tr>\n",
       "  </tbody>\n",
       "</table>\n",
       "<p>5 rows × 390 columns</p>\n",
       "</div>"
      ],
      "text/plain": [
       "   play_id          game_id old_game_id home_team away_team season_type  week  \\\n",
       "0      1.0  2022_01_BAL_NYJ  2022091107       NYJ       BAL         REG     1   \n",
       "1     43.0  2022_01_BAL_NYJ  2022091107       NYJ       BAL         REG     1   \n",
       "2     68.0  2022_01_BAL_NYJ  2022091107       NYJ       BAL         REG     1   \n",
       "3     89.0  2022_01_BAL_NYJ  2022091107       NYJ       BAL         REG     1   \n",
       "4    115.0  2022_01_BAL_NYJ  2022091107       NYJ       BAL         REG     1   \n",
       "\n",
       "  posteam posteam_type defteam  ...  \\\n",
       "0    None         None    None  ...   \n",
       "1     NYJ         home     BAL  ...   \n",
       "2     NYJ         home     BAL  ...   \n",
       "3     NYJ         home     BAL  ...   \n",
       "4     NYJ         home     BAL  ...   \n",
       "\n",
       "                                     offense_players  \\\n",
       "0                                                      \n",
       "1  00-0036157;00-0035202;00-0037984;00-0029597;00...   \n",
       "2  00-0036924;00-0032466;00-0036979;00-0032234;00...   \n",
       "3  00-0036924;00-0032466;00-0032234;00-0036979;00...   \n",
       "4  00-0036924;00-0032466;00-0036979;00-0032234;00...   \n",
       "\n",
       "                                     defense_players n_offense  n_defense  \\\n",
       "0                                                          0.0        0.0   \n",
       "1  00-0035537;00-0032134;00-0034419;00-0036500;00...      11.0       11.0   \n",
       "2  00-0033294;00-0026190;00-0032574;00-0028278;00...      11.0       11.0   \n",
       "3  00-0033294;00-0026190;00-0032574;00-0028278;00...      11.0       11.0   \n",
       "4  00-0033294;00-0026190;00-0032574;00-0028278;00...      11.0       11.0   \n",
       "\n",
       "   ngs_air_yards  time_to_throw was_pressure  route  defense_man_zone_type  \\\n",
       "0            NaN            NaN          NaN   None                   None   \n",
       "1            NaN            NaN          NaN   None                   None   \n",
       "2            NaN            NaN          NaN   None                   None   \n",
       "3           0.56           3.07          1.0  ANGLE          ZONE_COVERAGE   \n",
       "4            NaN            NaN          NaN   None                   None   \n",
       "\n",
       "   defense_coverage_type  \n",
       "0                   None  \n",
       "1                   None  \n",
       "2                   None  \n",
       "3                COVER_2  \n",
       "4                   None  \n",
       "\n",
       "[5 rows x 390 columns]"
      ]
     },
     "execution_count": 4,
     "metadata": {},
     "output_type": "execute_result"
    }
   ],
   "source": [
    "pbp.head()"
   ]
  },
  {
   "cell_type": "code",
   "execution_count": 5,
   "metadata": {},
   "outputs": [
    {
     "name": "stdout",
     "output_type": "stream",
     "text": [
      "(99605, 390)\n",
      "(43076, 390)\n"
     ]
    }
   ],
   "source": [
    "print(pbp.shape)\n",
    "pbp_clean = pbp[(pbp['pass'] == 1) & (pbp['play_type'] != \"no_play\")]\n",
    "print(pbp_clean.shape)"
   ]
  },
  {
   "cell_type": "code",
   "execution_count": 6,
   "metadata": {},
   "outputs": [
    {
     "data": {
      "image/png": "[encoded data removed]",
      "text/plain": [
       "<Figure size 640x480 with 1 Axes>"
      ]
     },
     "metadata": {},
     "output_type": "display_data"
    },
    {
     "data": {
      "image/png": "[encoded data removed]",
      "text/plain": [
       "<Figure size 640x480 with 1 Axes>"
      ]
     },
     "metadata": {},
     "output_type": "display_data"
    }
   ],
   "source": [
    "sns.countplot(x=pbp_clean[\"sack\"])\n",
    "plt.show()\n",
    "sacks = pbp_clean[(pbp_clean['sack'] == 1)]\n",
    "sns.countplot(x=sacks[\"down\"])\n",
    "plt.show()"
   ]
  },
  {
   "cell_type": "code",
   "execution_count": 7,
   "metadata": {},
   "outputs": [
    {
     "data": {
      "image/png": "[encoded data removed]",
      "text/plain": [
       "<Figure size 640x480 with 1 Axes>"
      ]
     },
     "metadata": {},
     "output_type": "display_data"
    }
   ],
   "source": [
    "sacks = pbp_clean[(pbp_clean['sack'] == 1)]\n",
    "sns.countplot(x=sacks[\"number_of_pass_rushers\"])\n",
    "plt.show()"
   ]
  },
  {
   "cell_type": "code",
   "execution_count": 13,
   "metadata": {},
   "outputs": [
    {
     "data": {
      "image/png": "[encoded data removed]",
      "text/plain": [
       "<Figure size 640x480 with 1 Axes>"
      ]
     },
     "metadata": {},
     "output_type": "display_data"
    }
   ],
   "source": [
    "sacks = pbp_clean[(pbp_clean['sack'] == 1)]\n",
    "sns.countplot(x=sacks[\"defenders_in_box\"])\n",
    "plt.show()"
   ]
  },
  {
   "cell_type": "code",
   "execution_count": 8,
   "metadata": {},
   "outputs": [
    {
     "name": "stderr",
     "output_type": "stream",
     "text": [
      "/var/folders/n6/fctsvhx51zv2t2mnhw79_mxh0000gn/T/ipykernel_82483/1064845038.py:1: PerformanceWarning: DataFrame is highly fragmented.  This is usually the result of calling `frame.insert` many times, which has poor performance.  Consider joining all columns at once using pd.concat(axis=1) instead. To get a de-fragmented frame, use `newframe = frame.copy()`\n",
      "  pbp_clean.loc[:, 'obvious_pass'] = np.where((pbp_clean['down'] == 3) & (pbp_clean['ydstogo'] >= 6), 1,0)\n",
      "/var/folders/n6/fctsvhx51zv2t2mnhw79_mxh0000gn/T/ipykernel_82483/1064845038.py:1: SettingWithCopyWarning: \n",
      "A value is trying to be set on a copy of a slice from a DataFrame.\n",
      "Try using .loc[row_indexer,col_indexer] = value instead\n",
      "\n",
      "See the caveats in the documentation: https://pandas.pydata.org/pandas-docs/stable/user_guide/indexing.html#returning-a-view-versus-a-copy\n",
      "  pbp_clean.loc[:, 'obvious_pass'] = np.where((pbp_clean['down'] == 3) & (pbp_clean['ydstogo'] >= 6), 1,0)\n"
     ]
    }
   ],
   "source": [
    "pbp_clean.loc[:, 'obvious_pass'] = np.where((pbp_clean['down'] == 3) & (pbp_clean['ydstogo'] >= 6), 1,0)"
   ]
  },
  {
   "cell_type": "code",
   "execution_count": 9,
   "metadata": {},
   "outputs": [
    {
     "data": {
      "text/plain": [
       "game_id                   0\n",
       "play_id                   0\n",
       "season                    0\n",
       "name                      0\n",
       "down                      0\n",
       "ydstogo                   0\n",
       "yardline_100              0\n",
       "game_seconds_remaining    0\n",
       "defenders_in_box          0\n",
       "number_of_pass_rushers    0\n",
       "xpass                     0\n",
       "obvious_pass              0\n",
       "sack                      0\n",
       "dtype: int64"
      ]
     },
     "execution_count": 9,
     "metadata": {},
     "output_type": "execute_result"
    }
   ],
   "source": [
    "pre_df = pbp_clean[['game_id', 'play_id', 'season', 'name', 'down', 'ydstogo', 'yardline_100', 'game_seconds_remaining',\n",
    "                    'defenders_in_box', 'number_of_pass_rushers', 'xpass', 'obvious_pass', 'sack']]\n",
    "df = pre_df.dropna()\n",
    "df.isna().sum()"
   ]
  },
  {
   "cell_type": "code",
   "execution_count": 10,
   "metadata": {},
   "outputs": [
    {
     "data": {
      "text/html": [
       "<div>\n",
       "<style scoped>\n",
       "    .dataframe tbody tr th:only-of-type {\n",
       "        vertical-align: middle;\n",
       "    }\n",
       "\n",
       "    .dataframe tbody tr th {\n",
       "        vertical-align: top;\n",
       "    }\n",
       "\n",
       "    .dataframe thead th {\n",
       "        text-align: right;\n",
       "    }\n",
       "</style>\n",
       "<table border=\"1\" class=\"dataframe\">\n",
       "  <thead>\n",
       "    <tr style=\"text-align: right;\">\n",
       "      <th></th>\n",
       "      <th>game_id</th>\n",
       "      <th>play_id</th>\n",
       "      <th>season</th>\n",
       "      <th>name</th>\n",
       "      <th>down</th>\n",
       "      <th>ydstogo</th>\n",
       "      <th>yardline_100</th>\n",
       "      <th>game_seconds_remaining</th>\n",
       "      <th>defenders_in_box</th>\n",
       "      <th>number_of_pass_rushers</th>\n",
       "      <th>xpass</th>\n",
       "      <th>obvious_pass</th>\n",
       "      <th>sack</th>\n",
       "    </tr>\n",
       "  </thead>\n",
       "  <tbody>\n",
       "    <tr>\n",
       "      <th>3</th>\n",
       "      <td>2022_01_BAL_NYJ</td>\n",
       "      <td>89.0</td>\n",
       "      <td>2022</td>\n",
       "      <td>J.Flacco</td>\n",
       "      <td>1.0</td>\n",
       "      <td>10.0</td>\n",
       "      <td>59.0</td>\n",
       "      <td>3569.0</td>\n",
       "      <td>6.0</td>\n",
       "      <td>4.0</td>\n",
       "      <td>0.389904</td>\n",
       "      <td>0</td>\n",
       "      <td>0.0</td>\n",
       "    </tr>\n",
       "    <tr>\n",
       "      <th>5</th>\n",
       "      <td>2022_01_BAL_NYJ</td>\n",
       "      <td>136.0</td>\n",
       "      <td>2022</td>\n",
       "      <td>J.Flacco</td>\n",
       "      <td>3.0</td>\n",
       "      <td>5.0</td>\n",
       "      <td>54.0</td>\n",
       "      <td>3541.0</td>\n",
       "      <td>7.0</td>\n",
       "      <td>4.0</td>\n",
       "      <td>0.963242</td>\n",
       "      <td>0</td>\n",
       "      <td>0.0</td>\n",
       "    </tr>\n",
       "    <tr>\n",
       "      <th>7</th>\n",
       "      <td>2022_01_BAL_NYJ</td>\n",
       "      <td>202.0</td>\n",
       "      <td>2022</td>\n",
       "      <td>L.Jackson</td>\n",
       "      <td>1.0</td>\n",
       "      <td>10.0</td>\n",
       "      <td>72.0</td>\n",
       "      <td>3522.0</td>\n",
       "      <td>7.0</td>\n",
       "      <td>4.0</td>\n",
       "      <td>0.479318</td>\n",
       "      <td>0</td>\n",
       "      <td>0.0</td>\n",
       "    </tr>\n",
       "    <tr>\n",
       "      <th>8</th>\n",
       "      <td>2022_01_BAL_NYJ</td>\n",
       "      <td>230.0</td>\n",
       "      <td>2022</td>\n",
       "      <td>L.Jackson</td>\n",
       "      <td>2.0</td>\n",
       "      <td>6.0</td>\n",
       "      <td>68.0</td>\n",
       "      <td>3501.0</td>\n",
       "      <td>6.0</td>\n",
       "      <td>3.0</td>\n",
       "      <td>0.608057</td>\n",
       "      <td>0</td>\n",
       "      <td>0.0</td>\n",
       "    </tr>\n",
       "    <tr>\n",
       "      <th>11</th>\n",
       "      <td>2022_01_BAL_NYJ</td>\n",
       "      <td>301.0</td>\n",
       "      <td>2022</td>\n",
       "      <td>L.Jackson</td>\n",
       "      <td>2.0</td>\n",
       "      <td>10.0</td>\n",
       "      <td>60.0</td>\n",
       "      <td>3379.0</td>\n",
       "      <td>5.0</td>\n",
       "      <td>4.0</td>\n",
       "      <td>0.565180</td>\n",
       "      <td>0</td>\n",
       "      <td>0.0</td>\n",
       "    </tr>\n",
       "  </tbody>\n",
       "</table>\n",
       "</div>"
      ],
      "text/plain": [
       "            game_id  play_id  season       name  down  ydstogo  yardline_100  \\\n",
       "3   2022_01_BAL_NYJ     89.0    2022   J.Flacco   1.0     10.0          59.0   \n",
       "5   2022_01_BAL_NYJ    136.0    2022   J.Flacco   3.0      5.0          54.0   \n",
       "7   2022_01_BAL_NYJ    202.0    2022  L.Jackson   1.0     10.0          72.0   \n",
       "8   2022_01_BAL_NYJ    230.0    2022  L.Jackson   2.0      6.0          68.0   \n",
       "11  2022_01_BAL_NYJ    301.0    2022  L.Jackson   2.0     10.0          60.0   \n",
       "\n",
       "    game_seconds_remaining  defenders_in_box  number_of_pass_rushers  \\\n",
       "3                   3569.0               6.0                     4.0   \n",
       "5                   3541.0               7.0                     4.0   \n",
       "7                   3522.0               7.0                     4.0   \n",
       "8                   3501.0               6.0                     3.0   \n",
       "11                  3379.0               5.0                     4.0   \n",
       "\n",
       "       xpass  obvious_pass  sack  \n",
       "3   0.389904             0   0.0  \n",
       "5   0.963242             0   0.0  \n",
       "7   0.479318             0   0.0  \n",
       "8   0.608057             0   0.0  \n",
       "11  0.565180             0   0.0  "
      ]
     },
     "execution_count": 10,
     "metadata": {},
     "output_type": "execute_result"
    }
   ],
   "source": [
    "df.head()"
   ]
  },
  {
   "cell_type": "code",
   "execution_count": 11,
   "metadata": {},
   "outputs": [],
   "source": [
    "df.loc[:, 'down'] = df['down'].astype('category')\n",
    "df_no_ids = df.drop(columns = ['game_id', 'play_id', 'name', 'season'])\n",
    "df_no_ids = pd.get_dummies(df_no_ids, columns = ['down'])"
   ]
  },
  {
   "cell_type": "code",
   "execution_count": 14,
   "metadata": {},
   "outputs": [
    {
     "data": {
      "text/plain": [
       "Index(['ydstogo', 'yardline_100', 'game_seconds_remaining', 'defenders_in_box',\n",
       "       'number_of_pass_rushers', 'xpass', 'obvious_pass', 'sack', 'down_1.0',\n",
       "       'down_2.0', 'down_3.0', 'down_4.0'],\n",
       "      dtype='object')"
      ]
     },
     "execution_count": 14,
     "metadata": {},
     "output_type": "execute_result"
    }
   ],
   "source": [
    "df_no_ids.columns"
   ]
  },
  {
   "cell_type": "code",
   "execution_count": 15,
   "metadata": {},
   "outputs": [],
   "source": [
    "sss = StratifiedShuffleSplit(n_splits=1, test_size=0.25, random_state=42)\n",
    "for train_index, test_index in sss.split(df_no_ids, df_no_ids['sack']):\n",
    "    strat_train_set = df_no_ids.iloc[train_index]\n",
    "    strat_test_set = df_no_ids.iloc[test_index]\n",
    "\n",
    "X_train = strat_train_set.drop(columns = ['sack'])\n",
    "Y_train = strat_train_set['sack']\n",
    "X_test = strat_test_set.drop(columns = ['sack'])\n",
    "Y_test = strat_test_set['sack']"
   ]
  },
  {
   "cell_type": "code",
   "execution_count": 16,
   "metadata": {},
   "outputs": [
    {
     "name": "stdout",
     "output_type": "stream",
     "text": [
      "Brier Score:  0.061011750839351314\n"
     ]
    }
   ],
   "source": [
    "LR = LogisticRegression(max_iter=1000)\n",
    "LR.fit(X_train, Y_train)\n",
    "\n",
    "LR_pred = pd.DataFrame(LR.predict_proba(X_test), columns = ['no_sack', 'sack'])[['sack']]\n",
    "\n",
    "print('Brier Score: ', brier_score_loss(Y_test, LR_pred))\n"
   ]
  },
  {
   "cell_type": "code",
   "execution_count": 17,
   "metadata": {},
   "outputs": [
    {
     "name": "stdout",
     "output_type": "stream",
     "text": [
      "Brier Score:  0.06545143611711005\n"
     ]
    }
   ],
   "source": [
    "RF = RandomForestClassifier()\n",
    "RF.fit(X_train, Y_train)\n",
    "\n",
    "RF_pred = pd.DataFrame(RF.predict_proba(X_test), columns = ['no_sack', 'sack'])[['sack']]\n",
    "\n",
    "print('Brier Score: ', brier_score_loss(Y_test, RF_pred))"
   ]
  },
  {
   "cell_type": "code",
   "execution_count": 18,
   "metadata": {},
   "outputs": [
    {
     "name": "stdout",
     "output_type": "stream",
     "text": [
      "Brier Score:  0.06342947451855119\n"
     ]
    }
   ],
   "source": [
    "XGB = XGBClassifier(objective=\"binary:logistic\", random_state=42)\n",
    "XGB.fit(X_train, Y_train)\n",
    "\n",
    "XGB_pred = pd.DataFrame(XGB.predict_proba(X_test), columns = ['no_sack', 'sack'])[['sack']]\n",
    "\n",
    "print('Brier Score: ', brier_score_loss(Y_test, XGB_pred))"
   ]
  },
  {
   "cell_type": "code",
   "execution_count": 19,
   "metadata": {},
   "outputs": [
    {
     "data": {
      "image/png": "[encoded data removed]",
      "text/plain": [
       "<Figure size 640x480 with 1 Axes>"
      ]
     },
     "metadata": {},
     "output_type": "display_data"
    }
   ],
   "source": [
    "sorted_idx = XGB.feature_importances_.argsort()\n",
    "plt.barh(X_train.columns[sorted_idx], XGB.feature_importances_[sorted_idx])\n",
    "plt.title(\"XGBClassifier Feature Importance\")\n",
    "plt.show()"
   ]
  },
  {
   "cell_type": "code",
   "execution_count": 21,
   "metadata": {},
   "outputs": [
    {
     "name": "stdout",
     "output_type": "stream",
     "text": [
      "             name  sack  sack_probability  sacks_over_under\n",
      "41        J.Allen  23.0         40.303146        -17.303146\n",
      "56         J.Love  28.0         41.981991        -13.981991\n",
      "80      P.Mahomes  27.0         40.220711        -13.220710\n",
      "72     M.Stafford  28.0         37.336536         -9.336535\n",
      "98   T.Tagovailoa  27.0         34.568363         -7.568362\n",
      "..            ...   ...               ...               ...\n",
      "10        B.Young  51.0         39.497818         11.502182\n",
      "101      Z.Wilson  46.0         33.434971         12.565028\n",
      "26        D.Jones  30.0         15.801968         14.198032\n",
      "91       T.DeVito  36.0         19.137865         16.862135\n",
      "86       S.Howell  59.0         40.192719         18.807280\n",
      "\n",
      "[102 rows x 4 columns]\n"
     ]
    }
   ],
   "source": [
    "data_for_prediction = df_no_ids.drop('sack', axis = 1)\n",
    "\n",
    "XGB_predictions = pd.DataFrame(XGB.predict_proba(data_for_prediction), columns = ['no_sack_probability', 'sack_probability'])[['sack_probability']]\n",
    "\n",
    "original_data_with_predictions = df.reset_index().drop(columns = ['index'])\n",
    "original_data_with_predictions['sack_probability'] = XGB_predictions\n",
    "\n",
    "original_data_with_predictions['sacks_over_under'] = original_data_with_predictions['sack'] - original_data_with_predictions['sack_probability']\n",
    "\n",
    "summary_2023 = original_data_with_predictions[(original_data_with_predictions['season'] == 2023)].groupby('name').agg({'sack': 'sum', 'sack_probability': 'sum', 'sacks_over_under': 'sum'}).reset_index().sort_values('sacks_over_under', ascending = True)\n",
    "\n",
    "print(summary_2023)"
   ]
  },
  {
   "cell_type": "code",
   "execution_count": 22,
   "metadata": {},
   "outputs": [
    {
     "name": "stdout",
     "output_type": "stream",
     "text": [
      "            name  sack  sack_probability  sacks_over_under\n",
      "56        J.Love  28.0         41.981991        -13.981991\n",
      "50        J.Goff  35.0         41.351940         -6.351941\n",
      "41       J.Allen  23.0         40.303146        -17.303146\n",
      "30    D.Prescott  39.0         40.260395         -1.260393\n",
      "80     P.Mahomes  27.0         40.220711        -13.220710\n",
      "..           ...   ...               ...               ...\n",
      "33  D.Singletary   0.0          0.013410         -0.013410\n",
      "55   J.Jefferson   0.0          0.012746         -0.012746\n",
      "84    S.Clifford   0.0          0.012335         -0.012335\n",
      "21    Co.Heyward   0.0          0.011267         -0.011267\n",
      "59       J.Smith   0.0          0.006960         -0.006960\n",
      "\n",
      "[102 rows x 4 columns]\n"
     ]
    }
   ],
   "source": [
    "summary_2023 = original_data_with_predictions[(original_data_with_predictions['season'] == 2023)].groupby('name').agg({'sack': 'sum', 'sack_probability': 'sum', 'sacks_over_under': 'sum'}).reset_index().sort_values('sack_probability', ascending = False)\n",
    "\n",
    "print(summary_2023)"
   ]
  },
  {
   "cell_type": "code",
   "execution_count": 23,
   "metadata": {},
   "outputs": [
    {
     "name": "stdout",
     "output_type": "stream",
     "text": [
      "             name  sack  sack_probability  sacks_over_under\n",
      "56         J.Love  28.0         41.981991        -13.981991\n",
      "50         J.Goff  35.0         41.351940         -6.351941\n",
      "41        J.Allen  23.0         40.303146        -17.303146\n",
      "30     D.Prescott  39.0         40.260395         -1.260393\n",
      "80      P.Mahomes  27.0         40.220711        -13.220710\n",
      "86       S.Howell  59.0         40.192719         18.807280\n",
      "67      L.Jackson  43.0         40.120274          2.879727\n",
      "7      B.Mayfield  41.0         39.674511          1.325488\n",
      "10        B.Young  51.0         39.497818         11.502182\n",
      "53        J.Hurts  37.0         38.174889         -1.174887\n",
      "72     M.Stafford  28.0         37.336536         -9.336535\n",
      "83       R.Wilson  45.0         35.953365          9.046637\n",
      "18       C.Stroud  35.0         35.948639         -0.948640\n",
      "52      J.Herbert  29.0         34.848633         -5.848634\n",
      "8         B.Purdy  31.0         34.754581         -3.754580\n",
      "98   T.Tagovailoa  27.0         34.568363         -7.568362\n",
      "96     T.Lawrence  32.0         34.176830         -2.176828\n",
      "23         D.Carr  28.0         33.734333         -5.734334\n",
      "101      Z.Wilson  46.0         33.434971         12.565028\n",
      "38   G.Minshew II  26.0         31.206799         -5.206798\n"
     ]
    }
   ],
   "source": [
    "summary_2023 = original_data_with_predictions[(original_data_with_predictions['season'] == 2023)].groupby('name').agg({'sack': 'sum', 'sack_probability': 'sum', 'sacks_over_under': 'sum'}).reset_index().sort_values('sack_probability', ascending = False)\n",
    "\n",
    "summary_2023 = summary_2023.head(20)\n",
    "\n",
    "print(summary_2023)"
   ]
  },
  {
   "cell_type": "code",
   "execution_count": 1,
   "metadata": {},
   "outputs": [
    {
     "ename": "NameError",
     "evalue": "name 'original_data_with_predictions' is not defined",
     "output_type": "error",
     "traceback": [
      "\u001b[0;31m---------------------------------------------------------------------------\u001b[0m",
      "\u001b[0;31mNameError\u001b[0m                                 Traceback (most recent call last)",
      "Cell \u001b[0;32mIn[1], line 1\u001b[0m\n\u001b[0;32m----> 1\u001b[0m summary_2022 \u001b[38;5;241m=\u001b[39m \u001b[43moriginal_data_with_predictions\u001b[49m[(original_data_with_predictions[\u001b[38;5;124m'\u001b[39m\u001b[38;5;124mseason\u001b[39m\u001b[38;5;124m'\u001b[39m] \u001b[38;5;241m==\u001b[39m \u001b[38;5;241m2022\u001b[39m)]\u001b[38;5;241m.\u001b[39mgroupby(\u001b[38;5;124m'\u001b[39m\u001b[38;5;124mname\u001b[39m\u001b[38;5;124m'\u001b[39m)\u001b[38;5;241m.\u001b[39magg({\u001b[38;5;124m'\u001b[39m\u001b[38;5;124msack\u001b[39m\u001b[38;5;124m'\u001b[39m: \u001b[38;5;124m'\u001b[39m\u001b[38;5;124msum\u001b[39m\u001b[38;5;124m'\u001b[39m, \u001b[38;5;124m'\u001b[39m\u001b[38;5;124msack_probability\u001b[39m\u001b[38;5;124m'\u001b[39m: \u001b[38;5;124m'\u001b[39m\u001b[38;5;124msum\u001b[39m\u001b[38;5;124m'\u001b[39m, \u001b[38;5;124m'\u001b[39m\u001b[38;5;124msacks_over_under\u001b[39m\u001b[38;5;124m'\u001b[39m: \u001b[38;5;124m'\u001b[39m\u001b[38;5;124msum\u001b[39m\u001b[38;5;124m'\u001b[39m})\u001b[38;5;241m.\u001b[39mreset_index()\u001b[38;5;241m.\u001b[39msort_values(\u001b[38;5;124m'\u001b[39m\u001b[38;5;124msack_probability\u001b[39m\u001b[38;5;124m'\u001b[39m, ascending \u001b[38;5;241m=\u001b[39m \u001b[38;5;28;01mFalse\u001b[39;00m)\n\u001b[1;32m      3\u001b[0m summary_2022 \u001b[38;5;241m=\u001b[39m summary_2022\u001b[38;5;241m.\u001b[39mhead(\u001b[38;5;241m20\u001b[39m)\n\u001b[1;32m      5\u001b[0m \u001b[38;5;28mprint\u001b[39m(summary_2022)\n",
      "\u001b[0;31mNameError\u001b[0m: name 'original_data_with_predictions' is not defined"
     ]
    }
   ],
   "source": [
    "summary_2022 = original_data_with_predictions[(original_data_with_predictions['season'] == 2022)].groupby('name').agg({'sack': 'sum', 'sack_probability': 'sum', 'sacks_over_under': 'sum'}).reset_index().sort_values('sack_probability', ascending = False)\n",
    "\n",
    "summary_2022 = summary_2022.head(20)\n",
    "\n",
    "print(summary_2022)"
   ]
  }
 ],
 "metadata": {
  "kernelspec": {
   "display_name": "Python 3",
   "language": "python",
   "name": "python3"
  },
  "language_info": {
   "codemirror_mode": {
    "name": "ipython",
    "version": 3
   },
   "file_extension": ".py",
   "mimetype": "text/x-python",
   "name": "python",
   "nbconvert_exporter": "python",
   "pygments_lexer": "ipython3",
   "version": "3.9.6"
  }
 },
 "nbformat": 4,
 "nbformat_minor": 2
}
